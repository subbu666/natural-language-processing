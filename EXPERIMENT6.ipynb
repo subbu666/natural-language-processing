{
  "nbformat": 4,
  "nbformat_minor": 0,
  "metadata": {
    "colab": {
      "provenance": [],
      "authorship_tag": "ABX9TyOB8hasQ5WqC2gKcSAAZNZD",
      "include_colab_link": true
    },
    "kernelspec": {
      "name": "python3",
      "display_name": "Python 3"
    },
    "language_info": {
      "name": "python"
    }
  },
  "cells": [
    {
      "cell_type": "markdown",
      "metadata": {
        "id": "view-in-github",
        "colab_type": "text"
      },
      "source": [
        "<a href=\"https://colab.research.google.com/github/subbu666/natural-language-processing/blob/main/EXPERIMENT6.ipynb\" target=\"_parent\"><img src=\"https://colab.research.google.com/assets/colab-badge.svg\" alt=\"Open In Colab\"/></a>"
      ]
    },
    {
      "cell_type": "code",
      "execution_count": 1,
      "metadata": {
        "id": "Dd-itGAAj0hg"
      },
      "outputs": [],
      "source": [
        "import pandas as pd\n",
        "import numpy as np"
      ]
    },
    {
      "cell_type": "code",
      "source": [
        "corpus=['data science is one of the most important fields of science','this is one of the best data science courses','data scientists analyze data']\n"
      ],
      "metadata": {
        "id": "735i96O1j-XD"
      },
      "execution_count": 2,
      "outputs": []
    },
    {
      "cell_type": "code",
      "source": [
        "words_set=set()\n",
        "for doc in corpus:\n",
        "  words=doc.split(' ')\n",
        "  words_set=words_set.union(set(words))\n",
        "print('Number of words in the corpus ',len(words_set))\n",
        "print('The words in the corpus: \\n ',words_set)"
      ],
      "metadata": {
        "colab": {
          "base_uri": "https://localhost:8080/"
        },
        "id": "lFzaKYTYkYyk",
        "outputId": "ea0323fc-6e88-4202-d1dd-ff73146e99d0"
      },
      "execution_count": 4,
      "outputs": [
        {
          "output_type": "stream",
          "name": "stdout",
          "text": [
            "Number of words in the corpus  14\n",
            "The words in the corpus: \n",
            "  {'this', 'data', 'is', 'of', 'analyze', 'scientists', 'courses', 'most', 'fields', 'one', 'best', 'the', 'science', 'important'}\n"
          ]
        }
      ]
    },
    {
      "cell_type": "code",
      "source": [
        "n_docs=len(corpus)\n",
        "n_words_set=len(words_set)\n",
        "df_tf=pd.DataFrame(np.zeros((n_docs,n_words_set)),columns=list(words_set))\n",
        "for i in range(n_docs):\n",
        "  words=corpus[i].split(' ')\n",
        "  for w in words:\n",
        "    df_tf[w][i]=df_tf[w][i]+(1/len(words))\n",
        "print(df_tf)"
      ],
      "metadata": {
        "colab": {
          "base_uri": "https://localhost:8080/"
        },
        "id": "Cf-1WMJ4oXqc",
        "outputId": "3da1fce1-7ec5-4ed0-994e-87228a3e8c39"
      },
      "execution_count": 12,
      "outputs": [
        {
          "output_type": "stream",
          "name": "stdout",
          "text": [
            "       this      data        is        of  analyze  scientists   courses  \\\n",
            "0  0.000000  0.090909  0.090909  0.181818     0.00        0.00  0.000000   \n",
            "1  0.111111  0.111111  0.111111  0.111111     0.00        0.00  0.111111   \n",
            "2  0.000000  0.500000  0.000000  0.000000     0.25        0.25  0.000000   \n",
            "\n",
            "       most    fields       one      best       the   science  important  \n",
            "0  0.090909  0.090909  0.090909  0.000000  0.090909  0.181818   0.090909  \n",
            "1  0.000000  0.000000  0.111111  0.111111  0.111111  0.111111   0.000000  \n",
            "2  0.000000  0.000000  0.000000  0.000000  0.000000  0.000000   0.000000  \n"
          ]
        }
      ]
    },
    {
      "cell_type": "code",
      "source": [
        "print('IDF OF: ')\n",
        "idf={}\n",
        "for w in words_set:\n",
        "  k=0\n",
        "  for i in range(n_docs):\n",
        "    if w in corpus[i].split():\n",
        "      k=k+1\n",
        "  idf[w]=np.log10(n_docs/k)\n",
        "  print(f'{w:>15}:{idf[w]:>10}')"
      ],
      "metadata": {
        "colab": {
          "base_uri": "https://localhost:8080/"
        },
        "id": "8WOXaX26pM7-",
        "outputId": "1646d0a6-f487-4b05-a39e-0e51ce790d97"
      },
      "execution_count": 13,
      "outputs": [
        {
          "output_type": "stream",
          "name": "stdout",
          "text": [
            "IDF OF: \n",
            "           this:0.47712125471966244\n",
            "           data:       0.0\n",
            "             is:0.17609125905568124\n",
            "             of:0.17609125905568124\n",
            "        analyze:0.47712125471966244\n",
            "     scientists:0.47712125471966244\n",
            "        courses:0.47712125471966244\n",
            "           most:0.47712125471966244\n",
            "         fields:0.47712125471966244\n",
            "            one:0.17609125905568124\n",
            "           best:0.47712125471966244\n",
            "            the:0.17609125905568124\n",
            "        science:0.17609125905568124\n",
            "      important:0.47712125471966244\n"
          ]
        }
      ]
    },
    {
      "cell_type": "code",
      "source": [
        "n_docs=len(corpus)\n",
        "df_tf_idf=df_tf.copy()\n",
        "for w in words_set:\n",
        "  for i in range(n_docs):\n",
        "    df_tf_idf[w][i]=df_tf[w][i]*idf[w]\n",
        "print(df_tf_idf)"
      ],
      "metadata": {
        "colab": {
          "base_uri": "https://localhost:8080/"
        },
        "id": "vTuJxhhJqRCY",
        "outputId": "d3111218-c104-473b-d824-c88070609f26"
      },
      "execution_count": 14,
      "outputs": [
        {
          "output_type": "stream",
          "name": "stdout",
          "text": [
            "       this  data        is        of  analyze  scientists   courses  \\\n",
            "0  0.000000   0.0  0.016008  0.032017  0.00000     0.00000  0.000000   \n",
            "1  0.053013   0.0  0.019566  0.019566  0.00000     0.00000  0.053013   \n",
            "2  0.000000   0.0  0.000000  0.000000  0.11928     0.11928  0.000000   \n",
            "\n",
            "       most    fields       one      best       the   science  important  \n",
            "0  0.043375  0.043375  0.016008  0.000000  0.016008  0.032017   0.043375  \n",
            "1  0.000000  0.000000  0.019566  0.053013  0.019566  0.019566   0.000000  \n",
            "2  0.000000  0.000000  0.000000  0.000000  0.000000  0.000000   0.000000  \n"
          ]
        }
      ]
    }
  ]
}