{
  "nbformat": 4,
  "nbformat_minor": 0,
  "metadata": {
    "colab": {
      "provenance": [],
      "authorship_tag": "ABX9TyNF9n24qTJB5LlXZYdjxuRN",
      "include_colab_link": true
    },
    "kernelspec": {
      "name": "python3",
      "display_name": "Python 3"
    },
    "language_info": {
      "name": "python"
    }
  },
  "cells": [
    {
      "cell_type": "markdown",
      "metadata": {
        "id": "view-in-github",
        "colab_type": "text"
      },
      "source": [
        "<a href=\"https://colab.research.google.com/github/subbu666/natural-language-processing/blob/main/Untitled10.ipynb\" target=\"_parent\"><img src=\"https://colab.research.google.com/assets/colab-badge.svg\" alt=\"Open In Colab\"/></a>"
      ]
    },
    {
      "cell_type": "code",
      "execution_count": 1,
      "metadata": {
        "id": "bnqvEQjsgrnS"
      },
      "outputs": [],
      "source": [
        "import gensim\n",
        "from gensim import corpora"
      ]
    },
    {
      "cell_type": "code",
      "source": [
        "documents=[['apple','banana','fruits'],['bought','bycycle','recently','less','two','years','buy','bike'],['color','apple','bycycle','red']]\n",
        "mapping=corpora.Dictionary(documents)\n",
        "data=[mapping.doc2bow(word) for word in documents]"
      ],
      "metadata": {
        "id": "nk2niy3Eg3a7"
      },
      "execution_count": 2,
      "outputs": []
    },
    {
      "cell_type": "code",
      "source": [
        "print(data)"
      ],
      "metadata": {
        "colab": {
          "base_uri": "https://localhost:8080/"
        },
        "id": "mtWn52zrhj_F",
        "outputId": "326a2881-2433-4a49-9124-d4246e1426ca"
      },
      "execution_count": 3,
      "outputs": [
        {
          "output_type": "stream",
          "name": "stdout",
          "text": [
            "[[(0, 1), (1, 1), (2, 1)], [(3, 1), (4, 1), (5, 1), (6, 1), (7, 1), (8, 1), (9, 1), (10, 1)], [(0, 1), (6, 1), (11, 1), (12, 1)]]\n"
          ]
        }
      ]
    },
    {
      "cell_type": "code",
      "source": [
        "ldamodel=gensim.models.ldamodel.LdaModel(data, num_topics=2, id2word=mapping,passes=15)\n",
        "topics=ldamodel.show_topics()\n",
        "print(topics)"
      ],
      "metadata": {
        "colab": {
          "base_uri": "https://localhost:8080/"
        },
        "id": "DydZmrdRhmOa",
        "outputId": "bebf8ebb-9d3e-4bda-adbb-40a36306502b"
      },
      "execution_count": 4,
      "outputs": [
        {
          "output_type": "stream",
          "name": "stdout",
          "text": [
            "[(0, '0.136*\"bycycle\" + 0.082*\"recently\" + 0.082*\"years\" + 0.082*\"less\" + 0.082*\"bike\" + 0.082*\"bought\" + 0.082*\"two\" + 0.082*\"buy\" + 0.081*\"red\" + 0.081*\"color\"'), (1, '0.171*\"apple\" + 0.153*\"fruits\" + 0.153*\"banana\" + 0.054*\"color\" + 0.054*\"red\" + 0.053*\"bycycle\" + 0.052*\"buy\" + 0.052*\"two\" + 0.052*\"bought\" + 0.052*\"bike\"')]\n"
          ]
        }
      ]
    }
  ]
}